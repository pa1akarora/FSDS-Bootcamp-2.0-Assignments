{
 "cells": [
  {
   "cell_type": "markdown",
   "id": "4b764420-0ef8-4124-96ec-cbacbb78db24",
   "metadata": {},
   "source": [
    "### Write a Python program to print \"Hello Python\"?"
   ]
  },
  {
   "cell_type": "code",
   "execution_count": 1,
   "id": "7731ed67-d072-4f39-8927-ebb058904ffc",
   "metadata": {},
   "outputs": [
    {
     "name": "stdout",
     "output_type": "stream",
     "text": [
      "Hello Python\n"
     ]
    }
   ],
   "source": [
    "print(\"Hello Python\")"
   ]
  },
  {
   "cell_type": "markdown",
   "id": "d4be0c42-459e-4149-937c-abc8c27cff59",
   "metadata": {},
   "source": [
    "### Write a Python program to do arithmetical operations addition and division.?"
   ]
  },
  {
   "cell_type": "code",
   "execution_count": 2,
   "id": "33084aea-197b-4d51-bdbb-a4dd59f77383",
   "metadata": {},
   "outputs": [
    {
     "name": "stdout",
     "output_type": "stream",
     "text": [
      "17\n",
      "0.8888888888888888\n"
     ]
    }
   ],
   "source": [
    "print(8+9)\n",
    "print(8/9)"
   ]
  },
  {
   "cell_type": "markdown",
   "id": "bd65fa74-bf0f-4784-8203-66b88ed8eca9",
   "metadata": {},
   "source": [
    "### Write a Python program to find the area of a triangle?"
   ]
  },
  {
   "cell_type": "code",
   "execution_count": 3,
   "id": "884e7bf3-09a3-4134-85c6-197d28961a75",
   "metadata": {},
   "outputs": [
    {
     "name": "stdin",
     "output_type": "stream",
     "text": [
      "enter base length of the triangle:  10\n",
      "enter base length of the triangle:  6\n"
     ]
    },
    {
     "name": "stdout",
     "output_type": "stream",
     "text": [
      "area of the triangle is:  30.0\n"
     ]
    }
   ],
   "source": [
    "base = int(input(\"enter base length of the triangle: \"))\n",
    "height = int(input(\"enter base length of the triangle: \"))\n",
    "\n",
    "print(\"area of the triangle is: \", 0.5*base*height)"
   ]
  },
  {
   "cell_type": "markdown",
   "id": "baecf320-9ffd-43a8-a62d-e20bd915f973",
   "metadata": {},
   "source": [
    "### Write a Python program to swap two variables?"
   ]
  },
  {
   "cell_type": "code",
   "execution_count": 9,
   "id": "707a3e73-b902-42af-ac5c-a3e3013b41db",
   "metadata": {},
   "outputs": [
    {
     "name": "stdin",
     "output_type": "stream",
     "text": [
      "enter variables separated by comma(,) :  3,4\n"
     ]
    },
    {
     "name": "stdout",
     "output_type": "stream",
     "text": [
      "before swap:  3 4\n",
      "after swap:  4 3\n"
     ]
    }
   ],
   "source": [
    "a,b = [int(i) for i in input(\"enter variables separated by comma(,) : \").split(',')]\n",
    "print(\"before swap: \", a,b)\n",
    "a,b = b,a\n",
    "print(\"after swap: \", a,b)"
   ]
  },
  {
   "cell_type": "markdown",
   "id": "c14839d1-7668-4520-96d0-2c8132b78d81",
   "metadata": {},
   "source": [
    "### Write a Python program to generate a random number?"
   ]
  },
  {
   "cell_type": "code",
   "execution_count": 8,
   "id": "467fcd0e-ae14-4191-8415-93b16956efa3",
   "metadata": {},
   "outputs": [
    {
     "name": "stdout",
     "output_type": "stream",
     "text": [
      "16\n"
     ]
    }
   ],
   "source": [
    "import random\n",
    "print(random.randint(8,20))"
   ]
  }
 ],
 "metadata": {
  "kernelspec": {
   "display_name": "Python 3 (ipykernel)",
   "language": "python",
   "name": "python3"
  },
  "language_info": {
   "codemirror_mode": {
    "name": "ipython",
    "version": 3
   },
   "file_extension": ".py",
   "mimetype": "text/x-python",
   "name": "python",
   "nbconvert_exporter": "python",
   "pygments_lexer": "ipython3",
   "version": "3.10.6"
  }
 },
 "nbformat": 4,
 "nbformat_minor": 5
}
